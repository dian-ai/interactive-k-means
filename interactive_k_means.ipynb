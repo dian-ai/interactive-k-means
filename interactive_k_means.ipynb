{
 "cells": [
  {
   "cell_type": "code",
   "execution_count": 1,
   "metadata": {},
   "outputs": [],
   "source": [
    "import ipyvolume as ipv\n",
    "from sklearn.cluster import KMeans\n",
    "from sklearn.datasets import make_blobs\n",
    "from ipywidgets import ColorPicker, VBox, \\\n",
    "    interact, interactive, fixed\n",
    "import struct\n",
    "import numpy as np\n",
    "np.random.seed(12345) "
   ]
  },
  {
   "cell_type": "markdown",
   "metadata": {},
   "source": [
    "Firstly create sample data with make_blobs function which generates isotropic Gaussian blobs for clustering. Points are created in 3 dimiensions corresponding to n_features. \n",
    "Number of samples and centers can be choosen arbitrary."
   ]
  },
  {
   "cell_type": "code",
   "execution_count": 2,
   "metadata": {},
   "outputs": [
    {
     "data": {
      "text/plain": [
       "array([[ 3.53607975,  4.61016309,  7.38895805],\n",
       "       [ 9.19147934, -4.97549186, -6.09957173],\n",
       "       [-9.3894151 , -6.75053368, -2.21182366],\n",
       "       ...,\n",
       "       [ 2.40129143,  5.00277387,  8.96946293],\n",
       "       [ 1.77557344,  6.17219644, 10.38235873],\n",
       "       [ 3.16239577,  5.97382819,  8.74878016]])"
      ]
     },
     "execution_count": 2,
     "metadata": {},
     "output_type": "execute_result"
    }
   ],
   "source": [
    "X, _ = make_blobs(n_samples=500, n_features=3, centers=5)\n",
    "X"
   ]
  },
  {
   "cell_type": "markdown",
   "metadata": {},
   "source": [
    "Let's create 3D scatter plot to see points."
   ]
  },
  {
   "cell_type": "code",
   "execution_count": 29,
   "metadata": {},
   "outputs": [
    {
     "data": {
      "application/vnd.jupyter.widget-view+json": {
       "model_id": "4c6b0bc3ec3440f48c0daa43fb3e6865",
       "version_major": 2,
       "version_minor": 0
      },
      "text/plain": [
       "Figure(camera=PerspectiveCamera(fov=46.0, position=(0.0, 0.0, 2.0), quaternion=(0.0, 0.0, 0.0, 1.0), scale=(1.…"
      ]
     },
     "metadata": {},
     "output_type": "display_data"
    }
   ],
   "source": [
    "fig = ipv.figure(height=600, width=600, layout={'width':'100%', 'height':'100%'})\n",
    "scatter = ipv.scatter(*X.T, size=1, marker=\"sphere\")\n",
    "ipv.xyzlim(-10, 10)\n",
    "display(fig)"
   ]
  },
  {
   "cell_type": "markdown",
   "metadata": {},
   "source": [
    "ipywidgets needs RGB tuple for coloring separate points,\n",
    "so the hex number must be changed to tuple."
   ]
  },
  {
   "cell_type": "code",
   "execution_count": 30,
   "metadata": {},
   "outputs": [],
   "source": [
    "def hex_to_rgb(hex):\n",
    "    hex = hex[1:]\n",
    "    return struct.unpack('BBB', bytes.fromhex(hex))"
   ]
  },
  {
   "cell_type": "markdown",
   "metadata": {},
   "source": [
    "This function is responsible for updating scatter points color with respect to ColorPickers."
   ]
  },
  {
   "cell_type": "code",
   "execution_count": 31,
   "metadata": {},
   "outputs": [],
   "source": [
    "def handle_cp_change(labels, **groups):\n",
    "    group_ids = [int(g.split(' ')[1]) for g in groups.keys()]\n",
    "    group_color = {k: hex_to_rgb(get_cp_value(cp)) for k, cp in zip(group_ids, groups.values())}\n",
    "    colors = list(map(lambda x: group_color[x], labels))\n",
    "    scatter.color = colors\n",
    "\n",
    "def get_cp_value(cp):\n",
    "    if type(cp) == ColorPicker:\n",
    "        return cp.value\n",
    "    else:\n",
    "        return cp"
   ]
  },
  {
   "cell_type": "markdown",
   "metadata": {},
   "source": [
    "Some colors are displayed in white. I chose few which displays properly."
   ]
  },
  {
   "cell_type": "code",
   "execution_count": 32,
   "metadata": {},
   "outputs": [],
   "source": [
    "avaliable_colors = {\n",
    "    0: '#ff0000',\n",
    "    1: '#00ff00',\n",
    "    2: '#0000ff',\n",
    "    3: '#ffff00',\n",
    "    4: '#00ffff',\n",
    "    5: '#ff00ff',\n",
    "    6: '#000000'\n",
    "}"
   ]
  },
  {
   "cell_type": "markdown",
   "metadata": {},
   "source": [
    "Using K-means algorithm every point will be assigned to some cluster.\n",
    "Number of clusters is parameter choosen by analyst.\n",
    "\n",
    "To make it easier to investigate the best possible number it can be interactively changed.\n",
    "\n",
    "Function bellow gets the n_clusters parameter and then calculates the predicted labels.\n",
    "It also declares ColorPickers with assigned color which can be changed (colors out of avaliable colors will be white)."
   ]
  },
  {
   "cell_type": "code",
   "execution_count": 33,
   "metadata": {},
   "outputs": [],
   "source": [
    "def color_scatter_with_kmeans(n_clusters):\n",
    "    kmeans = KMeans(n_clusters=n_clusters)\n",
    "    kmeans = kmeans.fit(X)\n",
    "    labels = kmeans.predict(X)\n",
    "    color_pickers = {f'group {k}': ColorPicker(value=avaliable_colors[k%len(avaliable_colors)], description=f'group {k}') \n",
    "                     for k in range(n_clusters)}\n",
    "    handle_cp_change(labels=list(labels), **color_pickers)\n",
    "    return interact(handle_cp_change, labels=fixed(list(labels)) , **color_pickers)"
   ]
  },
  {
   "cell_type": "markdown",
   "metadata": {},
   "source": [
    "Now wrap figure and widgets for interaction with VBox."
   ]
  },
  {
   "cell_type": "code",
   "execution_count": 34,
   "metadata": {},
   "outputs": [
    {
     "data": {
      "application/vnd.jupyter.widget-view+json": {
       "model_id": "c2e8aa234b6045cea3a2481e674111de",
       "version_major": 2,
       "version_minor": 0
      },
      "text/plain": [
       "VBox(children=(Figure(camera=PerspectiveCamera(fov=46.0, matrixWorldNeedsUpdate=True, position=(0.0, 1.2246467…"
      ]
     },
     "metadata": {},
     "output_type": "display_data"
    }
   ],
   "source": [
    "VBox([fig, interactive(color_scatter_with_kmeans, n_clusters=(1, 10, 1))])"
   ]
  },
  {
   "cell_type": "markdown",
   "metadata": {},
   "source": [
    "You can change the number of clusters and see update of colors corresponding to the group. \n",
    "\n",
    "If colors make it hard to distinguish group you can change it with ColorPicker."
   ]
  }
 ],
 "metadata": {
  "kernelspec": {
   "display_name": "Python 3",
   "language": "python",
   "name": "python3"
  },
  "language_info": {
   "codemirror_mode": {
    "name": "ipython",
    "version": 3
   },
   "file_extension": ".py",
   "mimetype": "text/x-python",
   "name": "python",
   "nbconvert_exporter": "python",
   "pygments_lexer": "ipython3",
   "version": "3.7.3"
  }
 },
 "nbformat": 4,
 "nbformat_minor": 2
}
